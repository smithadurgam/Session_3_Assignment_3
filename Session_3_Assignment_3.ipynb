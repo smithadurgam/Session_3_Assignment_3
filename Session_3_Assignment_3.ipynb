{
 "cells": [
  {
   "cell_type": "code",
   "execution_count": 16,
   "metadata": {},
   "outputs": [
    {
     "name": "stdout",
     "output_type": "stream",
     "text": [
      "Longest Word is : weeeeee\n"
     ]
    }
   ],
   "source": [
    "# Python Session 3 Assignment 3\n",
    "# Implement a function longestWord() that takes a list of words\n",
    "# and returns the longest one.\n",
    "\n",
    "# Define the function that takes the list as input\n",
    "# APPROACH 1\n",
    "def longestWords(lst):\n",
    "    l = len(lst)\n",
    "      \n",
    "    lst1 = [[len(x) for x in lst]]\n",
    "        \n",
    "    i = 0\n",
    "    longest = lst1[0]\n",
    "    lng = longest[0]\n",
    "    while i < l:\n",
    "        if longest[i] > lng:\n",
    "            lng = longest[i]\n",
    "            indxOfLong = i\n",
    "        i = i + 1\n",
    "    \n",
    "        \n",
    "    return(lst[indxOfLong])\n",
    "        \n",
    "\n",
    "lw = longestWords(['ss','dd', 'ddd','gg','weeeeee'])\n",
    "print(\"Longest Word is : \", end='')\n",
    "print(lw)"
   ]
  },
  {
   "cell_type": "code",
   "execution_count": 15,
   "metadata": {},
   "outputs": [
    {
     "name": "stdout",
     "output_type": "stream",
     "text": [
      "Longest Word is : nnnnnnnnnnnnss\n"
     ]
    }
   ],
   "source": [
    "# APPROACH 2\n",
    "# Using Reduce and lambda \n",
    "from functools import reduce\n",
    "def longestWords(lst):\n",
    "    l = len(lst)\n",
    "    \n",
    "    lst1 = reduce(lambda a,b: a if len(a) > len(b) else b, lst)\n",
    "    return(lst1)\n",
    "\n",
    "lw = longestWords(['nnnnnnnnnnnnss','djjjjjjjjjd', 'ddd','gg','weeeeee'])\n",
    "print(\"Longest Word is : \", end='')  \n",
    "print(lw)"
   ]
  }
 ],
 "metadata": {
  "kernelspec": {
   "display_name": "Python 3",
   "language": "python",
   "name": "python3"
  },
  "language_info": {
   "codemirror_mode": {
    "name": "ipython",
    "version": 3
   },
   "file_extension": ".py",
   "mimetype": "text/x-python",
   "name": "python",
   "nbconvert_exporter": "python",
   "pygments_lexer": "ipython3",
   "version": "3.6.4"
  }
 },
 "nbformat": 4,
 "nbformat_minor": 2
}
